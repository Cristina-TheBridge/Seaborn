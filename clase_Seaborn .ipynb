{
 "cells": [
  {
   "cell_type": "markdown",
   "source": [
    "![imagen](./img/seaborn.png)\n",
    "\n",
    "# [**Seaborn**](https://seaborn.pydata.org/) \n",
    "es una librería de visualización de datos de Python basada en matplotlib. Esta nos permite hacer interfaces de alto nivel con gráficas atractivas pero también estadísticamente informativas. \n",
    "\n",
    "# Exploratory Data Analysis with Seaborn\n",
    "Entender cómo se hacen las gráficas en python está muy bien, pero lo importante es saber cuándo usarlas. En este notebook no se pretende explicar todos los tipos de gráficas que hay (histogramas, scatter plots, heatmaps...), en primer lugar porque es imposible abarcarlo todo, y en segundo lugar porque hay que ir un paso atrás antes de elegir la gráfica, ya que tenemos que comprender de qué tipo son los datos y qué es lo que estamos buscando con cada gráfica.\n",
    "\n",
    "Por tanto, primero tendremos que identificar el tipo de los datos y cuántas variables vamos a representar\n",
    "- Una varibale numérica\n",
    "- Una variable categórica\n",
    "- Dos variables numércias\n",
    "- Tres o más variables numércias\n",
    "- Dos variablees categóricas\n",
    "- Variables numércias y categóricas\n",
    "\n",
    "Teniendo claro esto, junto con un buen catálogo de gráficas, lo tendremos mucho más fácil.\n",
    "\n",
    "[https://www.data-to-viz.com/](https://www.data-to-viz.com/)"
   ],
   "metadata": {}
  },
  {
   "cell_type": "markdown",
   "source": [
    "## Tipos de las variables"
   ],
   "metadata": {}
  },
  {
   "cell_type": "markdown",
   "source": [
    "Antes de representar cualquier variable es imprescindible comprender qué tipo de datos queremos representar. Tenemos los siguientes:\n",
    "\n",
    "![imagen](./img/dtypes.png)"
   ],
   "metadata": {}
  },
  {
   "cell_type": "code",
   "execution_count": null,
   "source": [
    "# Importamos todos los paquetes que vayamos a necesitar\n",
    "from sklearn.datasets import load_boston, load_iris\n",
    "\n",
    "\n",
    "# Algunas configuraciones de los paquetes\n",
    "sns.set(color_codes = True)\n",
    "pd.set_option(\"display.max_rows\", 500)# Cuántas filas de los DataFrames nos \"escupe\" pandas en el Notebook\n",
    "\n",
    "# para eliminar los warnings\n",
    "import warnings\n",
    "warnings.filterwarnings(\"ignore\")"
   ],
   "outputs": [],
   "metadata": {
    "ExecuteTime": {
     "end_time": "2021-10-06T08:36:33.790028Z",
     "start_time": "2021-10-06T08:36:33.769391Z"
    }
   }
  },
  {
   "cell_type": "code",
   "execution_count": null,
   "source": [
    "# Cargamos las features en un DataFrame:\n",
    "iris_df = pd.DataFrame(load_iris()[\"data\"],columns=load_iris()[\"feature_names\"])\n",
    "boston_df = pd.DataFrame(load_boston()[\"data\"],columns=load_boston()[\"feature_names\"])\n",
    "\n",
    "# Y añadimos la columna de especies:\n",
    "iris_df[\"target\"] = load_iris()[\"target_names\"][load_iris()[\"target\"]]\n",
    "boston_df[\"target\"] = load_boston()[\"target\"]\n",
    "\n",
    "# Cargamos tb el dataset del titanic\n",
    "titanic_df = pd.read_csv(\"data/titanic.csv\", sep=\"\\t\")\n",
    "\n",
    "# Cargamos los datos del supermarket sales\n",
    "market_df = pd.read_csv(\"data/supermarket_sales.csv\")\n",
    "\n",
    "# Cargamos dataset de suicidios\n",
    "suicid_df = pd.read_csv(\"data/suicide.csv\")"
   ],
   "outputs": [],
   "metadata": {
    "ExecuteTime": {
     "end_time": "2021-10-06T08:36:34.262403Z",
     "start_time": "2021-10-06T08:36:33.809082Z"
    }
   }
  },
  {
   "cell_type": "code",
   "execution_count": null,
   "source": [
    "titanic_df.head()"
   ],
   "outputs": [],
   "metadata": {
    "ExecuteTime": {
     "end_time": "2021-10-06T08:36:34.399621Z",
     "start_time": "2021-10-06T08:36:34.265108Z"
    }
   }
  },
  {
   "cell_type": "code",
   "execution_count": null,
   "source": [
    "boston_df.head()"
   ],
   "outputs": [],
   "metadata": {
    "ExecuteTime": {
     "end_time": "2021-10-06T08:36:34.438533Z",
     "start_time": "2021-10-06T08:36:34.402958Z"
    }
   }
  },
  {
   "cell_type": "code",
   "execution_count": null,
   "source": [
    "market_df.head()"
   ],
   "outputs": [],
   "metadata": {
    "ExecuteTime": {
     "end_time": "2021-10-06T08:36:34.485052Z",
     "start_time": "2021-10-06T08:36:34.448014Z"
    }
   }
  },
  {
   "cell_type": "code",
   "execution_count": null,
   "source": [
    "iris_df.head()"
   ],
   "outputs": [],
   "metadata": {
    "ExecuteTime": {
     "end_time": "2021-10-06T08:36:34.520538Z",
     "start_time": "2021-10-06T08:36:34.499003Z"
    }
   }
  },
  {
   "cell_type": "code",
   "execution_count": null,
   "source": [
    "suicid_df.head()"
   ],
   "outputs": [],
   "metadata": {
    "ExecuteTime": {
     "end_time": "2021-10-06T08:36:34.554502Z",
     "start_time": "2021-10-06T08:36:34.525244Z"
    }
   }
  },
  {
   "cell_type": "markdown",
   "source": [
    "## 1. Análisis univariante"
   ],
   "metadata": {}
  },
  {
   "cell_type": "markdown",
   "source": [
    "### 1.1 Variables cuantitativas"
   ],
   "metadata": {}
  },
  {
   "cell_type": "markdown",
   "source": [
    "Si queremos ver cómo se distribuyen los precios de venta de tickets del Titanic."
   ],
   "metadata": {}
  },
  {
   "cell_type": "markdown",
   "source": [
    "#### Densidad\n",
    "\n",
    "[Documentación](https://seaborn.pydata.org/generated/seaborn.distplot.html)\n",
    "\n",
    "Este tipo de gráficas nos sirven para ver la distribución de los datos, donde se concentran más, ¿es dispersa? ¿tiene asimétrica? ¿por qué? ¿Hay outliers?"
   ],
   "metadata": {}
  },
  {
   "cell_type": "code",
   "execution_count": null,
   "source": [
    "plt.figure(figsize = (10,5))"
   ],
   "outputs": [],
   "metadata": {
    "ExecuteTime": {
     "end_time": "2021-10-06T08:36:35.726662Z",
     "start_time": "2021-10-06T08:36:34.558125Z"
    }
   }
  },
  {
   "cell_type": "code",
   "execution_count": null,
   "source": [
    "plt.figure(figsize = (10,5))"
   ],
   "outputs": [],
   "metadata": {}
  },
  {
   "cell_type": "markdown",
   "source": [
    "#### Histograma\n",
    "También podemos verlo en un histograma\n",
    "\n",
    "[Documentación](https://seaborn.pydata.org/generated/seaborn.distplot.html)\n",
    "\n",
    "Los histogramas dan la frecuencia de aparición de todos los valores. Muy similar al diagrama de densidad anterior. La diferencia es que ahora el eje y es un conteo y no la probabilidad de aparición de los valores de la variable."
   ],
   "metadata": {}
  },
  {
   "cell_type": "code",
   "execution_count": null,
   "source": [
    "plt.figure(figsize = (10,5))"
   ],
   "outputs": [],
   "metadata": {
    "ExecuteTime": {
     "end_time": "2021-10-06T08:36:36.176442Z",
     "start_time": "2021-10-06T08:36:35.730132Z"
    }
   }
  },
  {
   "cell_type": "code",
   "execution_count": null,
   "source": [
    "plt.figure(figsize=(10,5))"
   ],
   "outputs": [],
   "metadata": {}
  },
  {
   "cell_type": "markdown",
   "source": [
    "Podemos agrupar (visualmente) una variable numérica. Podría ser una posible categorización de los billetes"
   ],
   "metadata": {}
  },
  {
   "cell_type": "code",
   "execution_count": null,
   "source": [
    "plt.figure(figsize=(10,5))"
   ],
   "outputs": [],
   "metadata": {
    "ExecuteTime": {
     "end_time": "2021-10-06T08:36:36.538396Z",
     "start_time": "2021-10-06T08:36:36.182036Z"
    }
   }
  },
  {
   "cell_type": "markdown",
   "source": [
    "#### Histograma + Densidad\n",
    "\n",
    "[Documentación](https://seaborn.pydata.org/generated/seaborn.distplot.html)"
   ],
   "metadata": {}
  },
  {
   "cell_type": "code",
   "execution_count": null,
   "source": [
    "plt.figure(figsize=(10,5))\n",
    "sns.distplot(titanic_df[\"Fare\"],\n",
    "            kde_kws={\"color\": \"k\", \"lw\": 3, \"label\": \"KDE\"},\n",
    "            hist_kws={\"histtype\": \"step\", \"lw\": 3,\n",
    "                      \"alpha\": 1, \"color\": \"g\", \"label\": \"HISTOGRAM\"}) #alpha es la opacidad\n",
    "plt.legend();"
   ],
   "outputs": [],
   "metadata": {
    "ExecuteTime": {
     "end_time": "2021-10-06T08:37:44.055216Z",
     "start_time": "2021-10-06T08:37:43.623714Z"
    }
   }
  },
  {
   "cell_type": "markdown",
   "source": [
    "#### Boxplot\n",
    "\n",
    "[Colores de Matplotlib](https://matplotlib.org/3.1.0/gallery/color/named_colors.html)\n",
    "\n",
    "[Boxlot](https://seaborn.pydata.org/generated/seaborn.boxplot.html)\n",
    "\n",
    "Los boxplots dan una información muy parecida a los gráficos vistos anteriormente, aunque en este caso destaca mucho más los outliers."
   ],
   "metadata": {}
  },
  {
   "cell_type": "code",
   "execution_count": null,
   "source": [
    "plt.figure(figsize=(20,5))"
   ],
   "outputs": [],
   "metadata": {
    "ExecuteTime": {
     "end_time": "2021-10-06T08:36:37.774939Z",
     "start_time": "2021-10-06T08:36:37.501636Z"
    }
   }
  },
  {
   "cell_type": "markdown",
   "source": [
    "![imagen](./img/boxplot.png)"
   ],
   "metadata": {}
  },
  {
   "cell_type": "markdown",
   "source": [
    "#### Violinplot\n",
    "\n",
    "[Colores de Matplotlib](https://matplotlib.org/3.1.0/gallery/color/named_colors.html)\n",
    "\n",
    "[Violinplot](https://seaborn.pydata.org/generated/seaborn.violinplot.html)\n",
    "\n",
    "Igual que un diagrama de caja, pero en este caso tiene la función de distribución en lugar de la propia caja"
   ],
   "metadata": {}
  },
  {
   "cell_type": "code",
   "execution_count": null,
   "source": [
    "plt.figure(figsize=(20,5))"
   ],
   "outputs": [],
   "metadata": {
    "ExecuteTime": {
     "end_time": "2021-10-06T08:36:38.119235Z",
     "start_time": "2021-10-06T08:36:37.779352Z"
    }
   }
  },
  {
   "cell_type": "code",
   "execution_count": null,
   "source": [
    "plt.figure(figsize=(20,5))"
   ],
   "outputs": [],
   "metadata": {
    "ExecuteTime": {
     "end_time": "2021-10-06T08:36:39.083104Z",
     "start_time": "2021-10-06T08:36:38.123947Z"
    }
   }
  },
  {
   "cell_type": "markdown",
   "source": [
    "### 1.2 Variables cualitativas"
   ],
   "metadata": {}
  },
  {
   "cell_type": "markdown",
   "source": [
    "#### Countplot"
   ],
   "metadata": {}
  },
  {
   "cell_type": "markdown",
   "source": [
    "Para representar una variable categórica tendremos que ver su frecuencia de valores\n",
    "\n",
    "En este caso vamos a ver qué tipo de embarque ha sido el más frecuente.\n",
    "\n",
    "[Documentacion](https://seaborn.pydata.org/generated/seaborn.countplot.html)"
   ],
   "metadata": {}
  },
  {
   "cell_type": "code",
   "execution_count": null,
   "source": [
    "plt.figure(figsize=(7,5))\n",
    "#countplot\n"
   ],
   "outputs": [],
   "metadata": {
    "ExecuteTime": {
     "end_time": "2021-10-06T08:36:39.397891Z",
     "start_time": "2021-10-06T08:36:39.093968Z"
    }
   }
  },
  {
   "cell_type": "markdown",
   "source": [
    "#### Lollipop\n",
    "\n",
    "¿Cuáles han sido los productos más pedidos?\n",
    "\n",
    "[Documentación](https://matplotlib.org/3.1.1/api/_as_gen/matplotlib.pyplot.hlines.html)"
   ],
   "metadata": {}
  },
  {
   "cell_type": "code",
   "execution_count": null,
   "source": [
    "conteo = market_df['Product line'].value_counts(ascending=True)\n",
    "conteo"
   ],
   "outputs": [],
   "metadata": {
    "ExecuteTime": {
     "end_time": "2021-10-06T08:36:39.425530Z",
     "start_time": "2021-10-06T08:36:39.406610Z"
    }
   }
  },
  {
   "cell_type": "code",
   "execution_count": null,
   "source": [
    "plt.figure(figsize=(10,5))"
   ],
   "outputs": [],
   "metadata": {}
  },
  {
   "cell_type": "markdown",
   "source": [
    "#### Donut chart/Pie chart\n",
    "\n",
    "[Documentación](https://matplotlib.org/3.1.1/api/_as_gen/matplotlib.pyplot.pie.html)"
   ],
   "metadata": {}
  },
  {
   "cell_type": "code",
   "execution_count": null,
   "source": [
    "# create data\n",
    "data = titanic_df[\"Embarked\"].value_counts()\n",
    "data"
   ],
   "outputs": [],
   "metadata": {}
  },
  {
   "cell_type": "code",
   "execution_count": null,
   "source": [
    "# Create a circle for the center of the plot\n",
    "my_circle=plt.Circle( (0,0), 0.7, color='white')\n",
    "\n",
    "plt.figure(figsize=(8,8))\n",
    "\n",
    "plt.pie(data.values,\n",
    "        labels = data.index,\n",
    "        autopct='%1.2f%%')\n",
    "\n",
    "p = plt.gcf() # hacer referencia a la figura \"activa\"\n",
    "p.gca().add_artist(my_circle) ;# gca haría referencia al axes \"activo\"\n"
   ],
   "outputs": [],
   "metadata": {
    "ExecuteTime": {
     "end_time": "2021-10-06T08:59:52.255721Z",
     "start_time": "2021-10-06T08:59:52.112039Z"
    }
   }
  },
  {
   "cell_type": "code",
   "execution_count": null,
   "source": [
    "# pie chart\n",
    "plt.figure(figsize=(8,8))"
   ],
   "outputs": [],
   "metadata": {
    "ExecuteTime": {
     "end_time": "2021-10-06T09:00:23.869652Z",
     "start_time": "2021-10-06T09:00:23.714057Z"
    }
   }
  },
  {
   "cell_type": "code",
   "execution_count": null,
   "source": [
    "# pie chart\n",
    "plt.figure(figsize=(8,8))"
   ],
   "outputs": [],
   "metadata": {}
  },
  {
   "cell_type": "markdown",
   "source": [
    "## 2. Análisis Bivariante"
   ],
   "metadata": {}
  },
  {
   "cell_type": "markdown",
   "source": [
    "### 2.1 Comparativa de variables cuantitativas (2-4 variables)"
   ],
   "metadata": {}
  },
  {
   "cell_type": "markdown",
   "source": [
    "#### Boxplot\n",
    "\n",
    "En este ejemplo veremos cómo de diferentes son las distribuciones de las 4 características que definen a una flor.\n",
    "\n",
    "[Boxlot](https://seaborn.pydata.org/generated/seaborn.boxplot.html)"
   ],
   "metadata": {}
  },
  {
   "cell_type": "code",
   "execution_count": null,
   "source": [
    "iris_df[iris_df.columns.values[:4]].head()"
   ],
   "outputs": [],
   "metadata": {}
  },
  {
   "cell_type": "code",
   "execution_count": null,
   "source": [
    "plt.figure(figsize=(10,10))"
   ],
   "outputs": [],
   "metadata": {
    "ExecuteTime": {
     "end_time": "2021-10-06T08:36:40.767588Z",
     "start_time": "2021-10-06T08:36:40.384651Z"
    }
   }
  },
  {
   "cell_type": "markdown",
   "source": [
    "El boxplot está bien, pero haay algo de información que se nos escapa"
   ],
   "metadata": {}
  },
  {
   "cell_type": "code",
   "execution_count": null,
   "source": [
    "plt.figure(figsize=(10,10))\n",
    "#swarm"
   ],
   "outputs": [],
   "metadata": {
    "ExecuteTime": {
     "end_time": "2021-10-06T09:01:37.129251Z",
     "start_time": "2021-10-06T09:01:36.510857Z"
    }
   }
  },
  {
   "cell_type": "markdown",
   "source": [
    "#### Diagramas de densidad\n",
    "\n",
    "Otra manera de ver cómo se distribuyen las características de las flores.\n",
    "\n",
    "[Documentación](https://seaborn.pydata.org/generated/seaborn.kdeplot.html)"
   ],
   "metadata": {}
  },
  {
   "cell_type": "code",
   "execution_count": null,
   "source": [
    "plt.figure(figsize=(10,8))"
   ],
   "outputs": [],
   "metadata": {
    "ExecuteTime": {
     "end_time": "2021-10-06T08:36:42.058685Z",
     "start_time": "2021-10-06T08:36:41.514458Z"
    }
   }
  },
  {
   "cell_type": "markdown",
   "source": [
    "#### Histogramas\n",
    "\n",
    "[Documentación](https://seaborn.pydata.org/generated/seaborn.distplot.html)"
   ],
   "metadata": {}
  },
  {
   "cell_type": "code",
   "execution_count": null,
   "source": [
    "plt.figure(figsize=(12,8))\n",
    "sns.distplot(iris_df[\"sepal length (cm)\"] , color=\"skyblue\", label=\"Sepal Length\")\n",
    "sns.distplot(iris_df[\"sepal width (cm)\"] , color=\"red\", label=\"Sepal Width\")\n",
    "plt.legend();"
   ],
   "outputs": [],
   "metadata": {
    "ExecuteTime": {
     "end_time": "2021-10-06T08:36:42.751904Z",
     "start_time": "2021-10-06T08:36:42.061497Z"
    }
   }
  },
  {
   "cell_type": "code",
   "execution_count": null,
   "source": [
    "f, axes = plt.subplots(2, 2, figsize=(15,10), sharex=True) \n"
   ],
   "outputs": [],
   "metadata": {
    "ExecuteTime": {
     "end_time": "2021-10-06T08:42:18.995252Z",
     "start_time": "2021-10-06T08:42:18.098016Z"
    }
   }
  },
  {
   "cell_type": "markdown",
   "source": [
    "#### Scatter plot\n",
    "\n",
    "En este ejemplo se ve claramente cómo estas dos variables sirven para distinguir las setosas de los otros tipos\n",
    "\n",
    "[Documentación](https://seaborn.pydata.org/generated/seaborn.scatterplot.html)"
   ],
   "metadata": {}
  },
  {
   "cell_type": "code",
   "execution_count": null,
   "source": [
    "iris_df.columns"
   ],
   "outputs": [],
   "metadata": {
    "ExecuteTime": {
     "end_time": "2021-10-06T08:36:43.802077Z",
     "start_time": "2021-10-06T08:36:43.781730Z"
    }
   }
  },
  {
   "cell_type": "code",
   "execution_count": null,
   "source": [
    "plt.figure(figsize=(12,8))"
   ],
   "outputs": [],
   "metadata": {
    "ExecuteTime": {
     "end_time": "2021-10-06T08:36:44.362308Z",
     "start_time": "2021-10-06T08:36:43.809407Z"
    }
   }
  },
  {
   "cell_type": "markdown",
   "source": [
    "[Documentación dataset](https://scikit-learn.org/stable/datasets/index.html#boston-dataset)\n",
    "\n",
    "[Documentación jointplot](https://seaborn.pydata.org/generated/seaborn.jointplot.html)\n",
    "\n",
    "% poblacion con poco poder adquisitivo vs media de habitaciones por vivienda"
   ],
   "metadata": {}
  },
  {
   "cell_type": "code",
   "execution_count": null,
   "source": [
    "display(boston_df['LSTAT'].head(), boston_df['RM'])"
   ],
   "outputs": [],
   "metadata": {}
  },
  {
   "cell_type": "code",
   "execution_count": null,
   "source": [],
   "outputs": [],
   "metadata": {
    "ExecuteTime": {
     "end_time": "2021-10-06T08:36:45.320950Z",
     "start_time": "2021-10-06T08:36:44.371883Z"
    }
   }
  },
  {
   "cell_type": "code",
   "execution_count": null,
   "source": [
    "sns.jointplot(x = boston_df['LSTAT'],\n",
    "             y = boston_df['RM'],\n",
    "             color = \"#4CB391\",\n",
    "             kind = 'hex');"
   ],
   "outputs": [],
   "metadata": {
    "ExecuteTime": {
     "end_time": "2021-10-06T08:36:46.072500Z",
     "start_time": "2021-10-06T08:36:45.328590Z"
    }
   }
  },
  {
   "cell_type": "code",
   "execution_count": null,
   "source": [
    "sns.jointplot(x=boston_df['LSTAT'],\n",
    "              y=boston_df['RM'],\n",
    "              kind=\"kde\",\n",
    "              color=\"#4CB391\");"
   ],
   "outputs": [],
   "metadata": {
    "ExecuteTime": {
     "end_time": "2021-10-06T08:36:47.581515Z",
     "start_time": "2021-10-06T08:36:46.075170Z"
    }
   }
  },
  {
   "cell_type": "markdown",
   "source": [
    "### 2.2 Comparativa de múltiples numéricas"
   ],
   "metadata": {}
  },
  {
   "cell_type": "markdown",
   "source": [
    "#### Heatmaps\n",
    "\n",
    "Los heatmaps son perfectos para representar una matriz de correlación\n",
    "\n",
    "[Documentación heatmap](https://seaborn.pydata.org/generated/seaborn.heatmap.html)"
   ],
   "metadata": {}
  },
  {
   "cell_type": "code",
   "execution_count": null,
   "source": [
    "boston_df.corr()"
   ],
   "outputs": [],
   "metadata": {}
  },
  {
   "cell_type": "code",
   "execution_count": null,
   "source": [
    "plt.figure(figsize=(10,10)) # cmap=sns.diverging_palette(148, 280, s=85, l=25, n=8)\n"
   ],
   "outputs": [],
   "metadata": {
    "ExecuteTime": {
     "end_time": "2021-10-06T09:04:27.705241Z",
     "start_time": "2021-10-06T09:04:27.164754Z"
    }
   }
  },
  {
   "cell_type": "markdown",
   "source": [
    "También nos permite comparar una variable numérica vs dos variables categóricas. Por ejemplo la cantidad de suicidios desagregado por edades y paises.\n",
    "\n",
    "Se recomienda que las dos variables categóricas tengan pocos casos, porque sino no se va a ver bien el heatmap."
   ],
   "metadata": {}
  },
  {
   "cell_type": "code",
   "execution_count": null,
   "source": [
    "# dos categoricas una numerica\n",
    "data = suicid_df.groupby(['country', 'age']).sum()['suicides_no'].unstack()\n",
    "data_filtrado = data.loc[['Italy', 'Spain', 'Portugal', 'Belgium', 'Czech Republic']]\n",
    "data_filtrado"
   ],
   "outputs": [],
   "metadata": {}
  },
  {
   "cell_type": "code",
   "execution_count": null,
   "source": [
    "plt.figure(figsize=(10,10)) #cmap = sns.cm.rocket_r"
   ],
   "outputs": [],
   "metadata": {}
  },
  {
   "cell_type": "markdown",
   "source": [
    "#### Correlograma\n",
    "\n",
    "[Documentación Pairplot](https://seaborn.pydata.org/generated/seaborn.pairplot.html)\n",
    "\n",
    "Interesante gráfica para ver en un dataset qué variables presentan correlación lineal, así como sus distribuciones. NO realices esta gráfica con muchas varaibles porque no se va a ver bien. Hazlo por partes."
   ],
   "metadata": {}
  },
  {
   "cell_type": "code",
   "execution_count": null,
   "source": [
    "# CODIGO pairplot \n"
   ],
   "outputs": [],
   "metadata": {}
  },
  {
   "cell_type": "code",
   "execution_count": null,
   "source": [
    "sns.pairplot(iris_df,\n",
    "            kind = \"reg\");"
   ],
   "outputs": [],
   "metadata": {
    "ExecuteTime": {
     "end_time": "2021-10-06T08:36:55.499837Z",
     "start_time": "2021-10-06T08:36:50.377337Z"
    }
   }
  },
  {
   "cell_type": "code",
   "execution_count": null,
   "source": [
    "sns.pairplot(iris_df,\n",
    "            kind = \"scatter\",\n",
    "            hue = 'target',\n",
    "            plot_kws = dict(s=80, edgecolor=\"white\", linewidth=1.5));"
   ],
   "outputs": [],
   "metadata": {
    "ExecuteTime": {
     "end_time": "2021-10-06T08:37:00.998716Z",
     "start_time": "2021-10-06T08:36:55.502299Z"
    }
   }
  },
  {
   "cell_type": "code",
   "execution_count": null,
   "source": [
    "sns.pairplot(iris_df,\n",
    "             kind=\"scatter\",\n",
    "             hue=\"target\",\n",
    "             diag_kind=\"hist\");"
   ],
   "outputs": [],
   "metadata": {
    "ExecuteTime": {
     "end_time": "2021-10-06T08:37:06.785038Z",
     "start_time": "2021-10-06T08:37:01.001190Z"
    }
   }
  },
  {
   "cell_type": "markdown",
   "source": [
    "### 2.3 Comparativa de dos variables cualitativas"
   ],
   "metadata": {}
  },
  {
   "cell_type": "markdown",
   "source": [
    "#### Tabla"
   ],
   "metadata": {}
  },
  {
   "cell_type": "markdown",
   "source": [
    "[Documentacion](https://pandas.pydata.org/pandas-docs/stable/reference/api/pandas.crosstab.html)\n",
    "\n",
    "Lo más sencillo, una tabla con la frecuencia de valores. Esto es factible cuando los elementos únicos por categoría no son muchos."
   ],
   "metadata": {}
  },
  {
   "cell_type": "code",
   "execution_count": null,
   "source": [
    "pd.crosstab(titanic_df['Embarked'],\n",
    "           titanic_df['Sex'],\n",
    "           margins=True)"
   ],
   "outputs": [],
   "metadata": {
    "ExecuteTime": {
     "end_time": "2021-10-06T08:37:06.826206Z",
     "start_time": "2021-10-06T08:37:06.788968Z"
    }
   }
  },
  {
   "cell_type": "markdown",
   "source": [
    "#### Diagrama de barras\n",
    "\n",
    "[Documentacion](https://seaborn.pydata.org/generated/seaborn.catplot.html)\n",
    "\n",
    "En un diagrama de barras también se entiende la representación de dos variables cualitativas"
   ],
   "metadata": {}
  },
  {
   "cell_type": "code",
   "execution_count": null,
   "source": [
    "sns.catplot(data = titanic_df,\n",
    "            y = 'Embarked',\n",
    "            hue = 'Sex',\n",
    "           kind = 'count',\n",
    "           edgecolor=\".6\");"
   ],
   "outputs": [],
   "metadata": {
    "ExecuteTime": {
     "end_time": "2021-10-06T08:37:07.474533Z",
     "start_time": "2021-10-06T08:37:06.831174Z"
    }
   }
  },
  {
   "cell_type": "markdown",
   "source": [
    "Otra manera de visualizar dos o más variables categóricas"
   ],
   "metadata": {}
  },
  {
   "cell_type": "code",
   "execution_count": null,
   "source": [
    "plt.figure(figsize=(30,10));\n",
    "sns.catplot(data=titanic_df,\n",
    "            x=\"Survived\",\n",
    "            col=\"Embarked\",\n",
    "            kind=\"count\",\n",
    "            col_wrap=3);"
   ],
   "outputs": [],
   "metadata": {
    "ExecuteTime": {
     "end_time": "2021-10-06T08:37:08.384847Z",
     "start_time": "2021-10-06T08:37:07.478987Z"
    }
   }
  },
  {
   "cell_type": "code",
   "execution_count": null,
   "source": [
    "df_plot = titanic_df.groupby(['Embarked', 'Survived']).size().reset_index().pivot(columns='Embarked', index='Survived', values=0)\n",
    "df_plot"
   ],
   "outputs": [],
   "metadata": {}
  },
  {
   "cell_type": "code",
   "execution_count": null,
   "source": [
    "df_plot.plot(kind='bar');"
   ],
   "outputs": [],
   "metadata": {
    "ExecuteTime": {
     "end_time": "2021-10-06T08:37:09.459609Z",
     "start_time": "2021-10-06T08:37:08.829922Z"
    }
   }
  },
  {
   "cell_type": "markdown",
   "source": [
    "### 2.4 Cualitativa vs cuantitativa"
   ],
   "metadata": {}
  },
  {
   "cell_type": "markdown",
   "source": [
    "#### Time series"
   ],
   "metadata": {}
  },
  {
   "cell_type": "markdown",
   "source": [
    "[Documentacion](https://seaborn.pydata.org/generated/seaborn.lineplot.html)\n",
    "\n",
    "Las series temporales tienen la particularidad de que son datos ordenados"
   ],
   "metadata": {}
  },
  {
   "cell_type": "code",
   "execution_count": null,
   "source": [
    "suicid_df2 = suicid_df[suicid_df['country'].isin(['Spain', 'Germany', 'France'])]\n",
    "suicid_df2 = suicid_df2.groupby(['country', 'year']).sum()\n",
    "suicid_df2.reset_index(inplace=True)\n",
    "suicid_df2.head()"
   ],
   "outputs": [],
   "metadata": {
    "ExecuteTime": {
     "end_time": "2021-10-06T08:37:09.535582Z",
     "start_time": "2021-10-06T08:37:09.462559Z"
    },
    "jupyter": {
     "outputs_hidden": true
    }
   }
  },
  {
   "cell_type": "code",
   "execution_count": null,
   "source": [
    "plt.figure(figsize=(15,10))\n",
    "# CODE LINEPLOT"
   ],
   "outputs": [],
   "metadata": {
    "ExecuteTime": {
     "end_time": "2021-10-06T08:37:10.071604Z",
     "start_time": "2021-10-06T08:37:09.540770Z"
    }
   }
  },
  {
   "cell_type": "markdown",
   "source": [
    "#### Treemap\n",
    "Un treemap es una opción muy interesante para mostrar una variable numérica vs una categórica"
   ],
   "metadata": {}
  },
  {
   "cell_type": "code",
   "execution_count": null,
   "source": [
    "#!pip install squarify"
   ],
   "outputs": [],
   "metadata": {
    "ExecuteTime": {
     "end_time": "2021-10-06T08:37:10.088645Z",
     "start_time": "2021-10-06T08:37:10.079279Z"
    }
   }
  },
  {
   "cell_type": "code",
   "execution_count": null,
   "source": [
    "import squarify\n",
    "\n",
    "data = suicid_df.groupby(\"country\").sum()['suicides_no'].sort_values(ascending=False)[:15] \n",
    "data"
   ],
   "outputs": [],
   "metadata": {}
  },
  {
   "cell_type": "code",
   "execution_count": null,
   "source": [
    "plt.figure(figsize=(15,10))\n",
    "#CODE SQUARIY.PLOT\n",
    "\n",
    "             \n",
    "plt.axis('off')\n",
    "plt.show()"
   ],
   "outputs": [],
   "metadata": {
    "ExecuteTime": {
     "end_time": "2021-10-06T08:37:10.493275Z",
     "start_time": "2021-10-06T08:37:10.100252Z"
    }
   }
  },
  {
   "cell_type": "markdown",
   "source": [
    "#### Bubble chart"
   ],
   "metadata": {}
  },
  {
   "cell_type": "code",
   "execution_count": null,
   "source": [
    "suicid_df2 = suicid_df[suicid_df['country-year'] == 'Spain2002']\n",
    "\n",
    "sns.relplot(data=suicid_df2,\n",
    "            x=\"suicides_no\",\n",
    "            y=\"suicides/100k pop\",\n",
    "            hue=\"sex\", size=\"age\",\n",
    "            sizes=(4, 300),\n",
    "            alpha=.5, palette=\"muted\");"
   ],
   "outputs": [],
   "metadata": {
    "ExecuteTime": {
     "end_time": "2021-10-06T08:37:21.446166Z",
     "start_time": "2021-10-06T08:37:20.411514Z"
    }
   }
  },
  {
   "cell_type": "markdown",
   "source": [
    "### **A partir de aquí te dejo que seas tú el que le eches un ojo al resto de opciones.**"
   ],
   "metadata": {}
  },
  {
   "cell_type": "markdown",
   "source": [
    "Con este catplot obtenemos la dispersión de la variable Age, por cada grupo de la categoría."
   ],
   "metadata": {}
  },
  {
   "cell_type": "code",
   "execution_count": null,
   "source": [
    "sns.catplot(x = 'Survived',\n",
    "           y = 'Age',\n",
    "           hue = 'Sex',\n",
    "           data = titanic_df);"
   ],
   "outputs": [],
   "metadata": {
    "ExecuteTime": {
     "end_time": "2021-10-06T08:37:11.083725Z",
     "start_time": "2021-10-06T08:37:10.497082Z"
    }
   }
  },
  {
   "cell_type": "markdown",
   "source": [
    "El equivalente con un diagrama de caja sería el siguiente"
   ],
   "metadata": {}
  },
  {
   "cell_type": "code",
   "execution_count": null,
   "source": [
    "sns.catplot(x=\"Survived\", y=\"Age\", hue=\"Sex\", kind=\"box\", data=titanic_df);"
   ],
   "outputs": [],
   "metadata": {
    "ExecuteTime": {
     "end_time": "2021-10-06T08:37:11.620280Z",
     "start_time": "2021-10-06T08:37:11.088491Z"
    }
   }
  },
  {
   "cell_type": "code",
   "execution_count": null,
   "source": [
    "sns.catplot(x=\"Survived\", y=\"Age\", hue=\"Sex\", kind=\"violin\", data=titanic_df);"
   ],
   "outputs": [],
   "metadata": {
    "ExecuteTime": {
     "end_time": "2021-10-06T08:37:12.195534Z",
     "start_time": "2021-10-06T08:37:11.623371Z"
    }
   }
  },
  {
   "cell_type": "code",
   "execution_count": null,
   "source": [
    "sns.catplot(x=\"Survived\", y=\"Age\", hue=\"Sex\", kind=\"violin\", split = True, data=titanic_df);"
   ],
   "outputs": [],
   "metadata": {
    "ExecuteTime": {
     "end_time": "2021-10-06T08:37:12.720943Z",
     "start_time": "2021-10-06T08:37:12.201418Z"
    }
   }
  },
  {
   "cell_type": "code",
   "execution_count": null,
   "source": [
    "sns.catplot(x=\"City\", y=\"Total\", kind=\"swarm\", data=market_df);"
   ],
   "outputs": [],
   "metadata": {
    "ExecuteTime": {
     "end_time": "2021-10-06T08:37:13.492649Z",
     "start_time": "2021-10-06T08:37:12.723989Z"
    }
   }
  },
  {
   "cell_type": "code",
   "execution_count": null,
   "source": [
    "sns.catplot(x=\"Survived\",\n",
    "            y=\"Fare\",\n",
    "            hue=\"Sex\",\n",
    "            col=\"Embarked\",\n",
    "            data=titanic_df,\n",
    "            height=5,\n",
    "            aspect=.8);"
   ],
   "outputs": [],
   "metadata": {
    "ExecuteTime": {
     "end_time": "2021-10-06T08:37:14.710462Z",
     "start_time": "2021-10-06T08:37:13.495131Z"
    }
   }
  },
  {
   "cell_type": "code",
   "execution_count": null,
   "source": [
    "suicid_df2 = suicid_df[suicid_df['country'].isin(['Spain', 'Germany', 'France'])]\n",
    "\n",
    "chart = sns.catplot(x = 'age',\n",
    "                   y = 'suicides/100k pop',\n",
    "                   hue = 'sex',\n",
    "                   col = 'country',\n",
    "                   data = suicid_df2,\n",
    "                   height = 8,\n",
    "                   aspect = 0.8)\n",
    "\n",
    "chart.set_xticklabels(rotation=45);"
   ],
   "outputs": [],
   "metadata": {
    "ExecuteTime": {
     "end_time": "2021-10-06T08:37:17.466026Z",
     "start_time": "2021-10-06T08:37:14.713749Z"
    }
   }
  },
  {
   "cell_type": "code",
   "execution_count": null,
   "source": [
    "sns.catplot(x=\"Fare\",\n",
    "            y=\"Embarked\",\n",
    "            hue=\"Sex\",\n",
    "            kind=\"violin\",\n",
    "            bw=.1,\n",
    "            height=8,\n",
    "            aspect=.8,\n",
    "            data=titanic_df);"
   ],
   "outputs": [],
   "metadata": {
    "ExecuteTime": {
     "end_time": "2021-10-06T08:37:18.354327Z",
     "start_time": "2021-10-06T08:37:17.475820Z"
    }
   }
  },
  {
   "cell_type": "code",
   "execution_count": null,
   "source": [
    "plt.figure(figsize=(10,5))\n",
    "sns.kdeplot(\n",
    "   data=titanic_df, x=\"Fare\", hue=\"Embarked\",\n",
    "   fill=True, common_norm=False, palette=\"crest\",\n",
    "   alpha=.5, linewidth=0,\n",
    ");"
   ],
   "outputs": [],
   "metadata": {
    "ExecuteTime": {
     "end_time": "2021-10-06T08:37:19.006604Z",
     "start_time": "2021-10-06T08:37:18.368424Z"
    }
   }
  },
  {
   "cell_type": "code",
   "execution_count": null,
   "source": [
    "suicid_df2 = suicid_df[suicid_df['country'] == 'Spain']\n",
    "\n",
    "plt.figure(figsize=(20,8))\n",
    "sns.barplot(x = 'year',\n",
    "           y = 'suicides_no',\n",
    "           palette = 'Blues_d',\n",
    "           data = suicid_df2,\n",
    "           ci = None);"
   ],
   "outputs": [],
   "metadata": {
    "ExecuteTime": {
     "end_time": "2021-10-06T08:37:19.699204Z",
     "start_time": "2021-10-06T08:37:19.010680Z"
    }
   }
  },
  {
   "cell_type": "code",
   "execution_count": null,
   "source": [
    "df1 = suicid_df.groupby('country').sum()['suicides_no']\n",
    "df2 = suicid_df[suicid_df['gdp_per_capita ($)'] > 10000].groupby('country').sum()['suicides_no']\n",
    "df1 = df1[df1.index.isin(df2.index)]\n",
    "\n",
    "df_tot = pd.DataFrame({\"Tot_suicide\": df1, \"Suicide_gdp\": df2}).sort_values(\"Tot_suicide\", ascending=False)[:20]\n",
    "df_tot.reset_index(level=0, inplace=True)"
   ],
   "outputs": [],
   "metadata": {
    "ExecuteTime": {
     "end_time": "2021-10-06T08:37:19.744156Z",
     "start_time": "2021-10-06T08:37:19.702549Z"
    }
   }
  },
  {
   "cell_type": "code",
   "execution_count": null,
   "source": [
    "df_tot.head()"
   ],
   "outputs": [],
   "metadata": {}
  },
  {
   "cell_type": "code",
   "execution_count": null,
   "source": [
    "# Initialize the matplotlib figure\n",
    "f, ax = plt.subplots(figsize=(6, 15))\n",
    "\n",
    "# Plot the total crashes\n",
    "sns.set_color_codes(\"pastel\")\n",
    "sns.barplot(x=\"Tot_suicide\", y=\"country\", data=df_tot,\n",
    "            label=\"Total\", color=\"b\")\n",
    "\n",
    "# Plot the crashes where alcohol was involved\n",
    "sns.set_color_codes(\"muted\")\n",
    "sns.barplot(x=\"Suicide_gdp\", y=\"country\", data=df_tot,\n",
    "            label=\"High gdp\", color=\"b\")\n",
    "\n",
    "# Add a legend and informative axis label\n",
    "ax.legend(ncol=2, loc=\"lower right\", frameon=True)\n",
    "sns.despine(left=True, bottom=True)"
   ],
   "outputs": [],
   "metadata": {
    "ExecuteTime": {
     "end_time": "2021-10-06T08:37:20.408632Z",
     "start_time": "2021-10-06T08:37:19.749967Z"
    }
   }
  },
  {
   "cell_type": "markdown",
   "source": [],
   "metadata": {}
  },
  {
   "cell_type": "markdown",
   "source": [
    "#### "
   ],
   "metadata": {
    "heading_collapsed": true
   }
  }
 ],
 "metadata": {
  "hide_input": false,
  "interpreter": {
   "hash": "6b4c0a4d66f3cbfe372d776ccac342f3e40d8ff039ac068611a7ab1c1bee3af0"
  },
  "kernelspec": {
   "name": "python3",
   "display_name": "Python 3.8.5 64-bit ('base': conda)"
  },
  "language_info": {
   "codemirror_mode": {
    "name": "ipython",
    "version": 3
   },
   "file_extension": ".py",
   "mimetype": "text/x-python",
   "name": "python",
   "nbconvert_exporter": "python",
   "pygments_lexer": "ipython3",
   "version": "3.8.5"
  },
  "toc": {
   "base_numbering": 1,
   "nav_menu": {},
   "number_sections": false,
   "sideBar": true,
   "skip_h1_title": false,
   "title_cell": "Table of Contents",
   "title_sidebar": "Contents",
   "toc_cell": false,
   "toc_position": {
    "height": "calc(100% - 180px)",
    "left": "10px",
    "top": "150px",
    "width": "395px"
   },
   "toc_section_display": true,
   "toc_window_display": true
  },
  "varInspector": {
   "cols": {
    "lenName": 16,
    "lenType": 16,
    "lenVar": 40
   },
   "kernels_config": {
    "python": {
     "delete_cmd_postfix": "",
     "delete_cmd_prefix": "del ",
     "library": "var_list.py",
     "varRefreshCmd": "print(var_dic_list())"
    },
    "r": {
     "delete_cmd_postfix": ") ",
     "delete_cmd_prefix": "rm(",
     "library": "var_list.r",
     "varRefreshCmd": "cat(var_dic_list()) "
    }
   },
   "types_to_exclude": [
    "module",
    "function",
    "builtin_function_or_method",
    "instance",
    "_Feature"
   ],
   "window_display": false
  }
 },
 "nbformat": 4,
 "nbformat_minor": 4
}